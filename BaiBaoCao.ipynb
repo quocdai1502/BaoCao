{
  "nbformat": 4,
  "nbformat_minor": 0,
  "metadata": {
    "colab": {
      "name": "BaiBaoCao.ipynb",
      "provenance": [],
      "collapsed_sections": []
    },
    "kernelspec": {
      "name": "python3",
      "display_name": "Python 3"
    }
  },
  "cells": [
    {
      "cell_type": "code",
      "metadata": {
        "id": "5bC3rsnngspQ"
      },
      "source": [
        "import numpy as np \r\n",
        "import pandas as pd \r\n",
        "\r\n",
        "from sklearn import preprocessing\r\n",
        "import matplotlib.pyplot as plt \r\n",
        "plt.rc(\"font\", size=14)\r\n",
        "import seaborn as sns\r\n",
        "sns.set(style=\"white\") #white background style for seaborn plots\r\n",
        "sns.set(style=\"whitegrid\", color_codes=True)\r\n",
        "\r\n",
        "import warnings\r\n",
        "warnings.simplefilter(action='ignore')"
      ],
      "execution_count": 59,
      "outputs": []
    },
    {
      "cell_type": "code",
      "metadata": {
        "colab": {
          "base_uri": "https://localhost:8080/",
          "height": 510
        },
        "id": "Z8jMeUuFhfcy",
        "outputId": "cacc267e-a3ed-4f9d-c7c1-c756bced54b3"
      },
      "source": [
        "df = pd.read_csv(\"/content/vgsales.csv\", index_col=0, encoding='unicode_escape')\r\n",
        "data=df.info()\r\n",
        "df.head()"
      ],
      "execution_count": 42,
      "outputs": [
        {
          "output_type": "stream",
          "text": [
            "<class 'pandas.core.frame.DataFrame'>\n",
            "Int64Index: 12819 entries, 1 to 12820\n",
            "Data columns (total 10 columns):\n",
            " #   Column        Non-Null Count  Dtype  \n",
            "---  ------        --------------  -----  \n",
            " 0   Name          12819 non-null  object \n",
            " 1   Platform      12819 non-null  object \n",
            " 2   Year          12616 non-null  float64\n",
            " 3   Genre         12819 non-null  object \n",
            " 4   Publisher     12783 non-null  object \n",
            " 5   NA_Sales      12818 non-null  float64\n",
            " 6   EU_Sales      12818 non-null  float64\n",
            " 7   JP_Sales      12818 non-null  float64\n",
            " 8   Other_Sales   12818 non-null  float64\n",
            " 9   Global_Sales  12818 non-null  float64\n",
            "dtypes: float64(6), object(4)\n",
            "memory usage: 1.1+ MB\n"
          ],
          "name": "stdout"
        },
        {
          "output_type": "execute_result",
          "data": {
            "text/html": [
              "<div>\n",
              "<style scoped>\n",
              "    .dataframe tbody tr th:only-of-type {\n",
              "        vertical-align: middle;\n",
              "    }\n",
              "\n",
              "    .dataframe tbody tr th {\n",
              "        vertical-align: top;\n",
              "    }\n",
              "\n",
              "    .dataframe thead th {\n",
              "        text-align: right;\n",
              "    }\n",
              "</style>\n",
              "<table border=\"1\" class=\"dataframe\">\n",
              "  <thead>\n",
              "    <tr style=\"text-align: right;\">\n",
              "      <th></th>\n",
              "      <th>Name</th>\n",
              "      <th>Platform</th>\n",
              "      <th>Year</th>\n",
              "      <th>Genre</th>\n",
              "      <th>Publisher</th>\n",
              "      <th>NA_Sales</th>\n",
              "      <th>EU_Sales</th>\n",
              "      <th>JP_Sales</th>\n",
              "      <th>Other_Sales</th>\n",
              "      <th>Global_Sales</th>\n",
              "    </tr>\n",
              "    <tr>\n",
              "      <th>Rank</th>\n",
              "      <th></th>\n",
              "      <th></th>\n",
              "      <th></th>\n",
              "      <th></th>\n",
              "      <th></th>\n",
              "      <th></th>\n",
              "      <th></th>\n",
              "      <th></th>\n",
              "      <th></th>\n",
              "      <th></th>\n",
              "    </tr>\n",
              "  </thead>\n",
              "  <tbody>\n",
              "    <tr>\n",
              "      <th>1</th>\n",
              "      <td>Wii Sports</td>\n",
              "      <td>Wii</td>\n",
              "      <td>2006.0</td>\n",
              "      <td>Sports</td>\n",
              "      <td>Nintendo</td>\n",
              "      <td>41.49</td>\n",
              "      <td>29.02</td>\n",
              "      <td>3.77</td>\n",
              "      <td>8.46</td>\n",
              "      <td>82.74</td>\n",
              "    </tr>\n",
              "    <tr>\n",
              "      <th>2</th>\n",
              "      <td>Super Mario Bros.</td>\n",
              "      <td>NES</td>\n",
              "      <td>1985.0</td>\n",
              "      <td>Platform</td>\n",
              "      <td>Nintendo</td>\n",
              "      <td>29.08</td>\n",
              "      <td>3.58</td>\n",
              "      <td>6.81</td>\n",
              "      <td>0.77</td>\n",
              "      <td>40.24</td>\n",
              "    </tr>\n",
              "    <tr>\n",
              "      <th>3</th>\n",
              "      <td>Mario Kart Wii</td>\n",
              "      <td>Wii</td>\n",
              "      <td>2008.0</td>\n",
              "      <td>Racing</td>\n",
              "      <td>Nintendo</td>\n",
              "      <td>15.85</td>\n",
              "      <td>12.88</td>\n",
              "      <td>3.79</td>\n",
              "      <td>3.31</td>\n",
              "      <td>35.82</td>\n",
              "    </tr>\n",
              "    <tr>\n",
              "      <th>4</th>\n",
              "      <td>Wii Sports Resort</td>\n",
              "      <td>Wii</td>\n",
              "      <td>2009.0</td>\n",
              "      <td>Sports</td>\n",
              "      <td>Nintendo</td>\n",
              "      <td>15.75</td>\n",
              "      <td>11.01</td>\n",
              "      <td>3.28</td>\n",
              "      <td>2.96</td>\n",
              "      <td>33.00</td>\n",
              "    </tr>\n",
              "    <tr>\n",
              "      <th>5</th>\n",
              "      <td>Pokemon Red/Pokemon Blue</td>\n",
              "      <td>GB</td>\n",
              "      <td>1996.0</td>\n",
              "      <td>Role-Playing</td>\n",
              "      <td>Nintendo</td>\n",
              "      <td>11.27</td>\n",
              "      <td>8.89</td>\n",
              "      <td>10.22</td>\n",
              "      <td>1.00</td>\n",
              "      <td>31.37</td>\n",
              "    </tr>\n",
              "  </tbody>\n",
              "</table>\n",
              "</div>"
            ],
            "text/plain": [
              "                          Name Platform  ...  Other_Sales Global_Sales\n",
              "Rank                                     ...                          \n",
              "1                   Wii Sports      Wii  ...         8.46        82.74\n",
              "2            Super Mario Bros.      NES  ...         0.77        40.24\n",
              "3               Mario Kart Wii      Wii  ...         3.31        35.82\n",
              "4            Wii Sports Resort      Wii  ...         2.96        33.00\n",
              "5     Pokemon Red/Pokemon Blue       GB  ...         1.00        31.37\n",
              "\n",
              "[5 rows x 10 columns]"
            ]
          },
          "metadata": {
            "tags": []
          },
          "execution_count": 42
        }
      ]
    },
    {
      "cell_type": "code",
      "metadata": {
        "id": "AGULAVgqjQK_",
        "colab": {
          "base_uri": "https://localhost:8080/"
        },
        "outputId": "0cc73830-ee69-4ec3-dca2-f619f9b63b13"
      },
      "source": [
        "df.isnull().sum()"
      ],
      "execution_count": 43,
      "outputs": [
        {
          "output_type": "execute_result",
          "data": {
            "text/plain": [
              "Name              0\n",
              "Platform          0\n",
              "Year            203\n",
              "Genre             0\n",
              "Publisher        36\n",
              "NA_Sales          1\n",
              "EU_Sales          1\n",
              "JP_Sales          1\n",
              "Other_Sales       1\n",
              "Global_Sales      1\n",
              "dtype: int64"
            ]
          },
          "metadata": {
            "tags": []
          },
          "execution_count": 43
        }
      ]
    },
    {
      "cell_type": "code",
      "metadata": {
        "colab": {
          "base_uri": "https://localhost:8080/"
        },
        "id": "QDgU_aMIkOeN",
        "outputId": "60f98114-f08e-45f9-f5c2-458f51da694e"
      },
      "source": [
        "# percent of missing \"Year\"\r\n",
        "print('Percent of missing \"Year\" records is %.2f%%' %((df['Year'].isnull().sum()/df.shape[0])*100))\r\n",
        "# percent of missing \"Publisher\"\r\n",
        "print('Percent of missing \"Publisher\" records is %.2f%%' %((df['Publisher'].isnull().sum()/df.shape[0])*100))\r\n",
        "# percent of missing \"NA_Sales\"\r\n",
        "print('Percent of missing \"NA_Sales\" records is %.2f%%' %((df['NA_Sales'].isnull().sum()/df.shape[0])*100))\r\n",
        "# percent of missing \"EU_Sales\"\r\n",
        "print('Percent of missing \"EU_Sales\" records is %.2f%%' %((df['EU_Sales'].isnull().sum()/df.shape[0])*100))\r\n",
        "# percent of missing \"JP_Sales\"\r\n",
        "print('Percent of missing \"JP_Sales\" records is %.2f%%' %((df['JP_Sales'].isnull().sum()/df.shape[0])*100))\r\n",
        "# percent of missing \"Other_Sales\"\r\n",
        "print('Percent of missing \"Other_Sales\" records is %.2f%%' %((df['Other_Sales'].isnull().sum()/df.shape[0])*100))\r\n",
        "# percent of missing \"Global_Sales\"\r\n",
        "print('Percent of missing \"Global_Sales\" records is %.2f%%' %((df['Global_Sales'].isnull().sum()/df.shape[0])*100))"
      ],
      "execution_count": 44,
      "outputs": [
        {
          "output_type": "stream",
          "text": [
            "Percent of missing \"Year\" records is 1.58%\n",
            "Percent of missing \"Publisher\" records is 0.28%\n",
            "Percent of missing \"NA_Sales\" records is 0.01%\n",
            "Percent of missing \"EU_Sales\" records is 0.01%\n",
            "Percent of missing \"JP_Sales\" records is 0.01%\n",
            "Percent of missing \"Other_Sales\" records is 0.01%\n",
            "Percent of missing \"Global_Sales\" records is 0.01%\n"
          ],
          "name": "stdout"
        }
      ]
    },
    {
      "cell_type": "code",
      "metadata": {
        "colab": {
          "base_uri": "https://localhost:8080/"
        },
        "id": "M8nBSGvymI-H",
        "outputId": "ff7cc6ed-28d3-4de8-ced9-3e3c2ef2f9d6"
      },
      "source": [
        "train_data =df.copy()\r\n",
        "print('The most common boarding port of Publisher  is %s.' %df['Publisher'].value_counts().idxmax())\r\n",
        "train_data[\"Publisher\"].fillna(df['Publisher'].value_counts().idxmax(), inplace=True)\r\n"
      ],
      "execution_count": 45,
      "outputs": [
        {
          "output_type": "stream",
          "text": [
            "The most common boarding port of Publisher  is Electronic Arts.\n"
          ],
          "name": "stdout"
        }
      ]
    },
    {
      "cell_type": "code",
      "metadata": {
        "colab": {
          "base_uri": "https://localhost:8080/"
        },
        "id": "WzWVNTBPmJA2",
        "outputId": "5c11d0ba-729f-4525-a75f-fe4394e3dc87"
      },
      "source": [
        "print('The median of \"NA_Sales\" is %.2f' %(df[\"NA_Sales\"].median(skipna=True)))\r\n",
        "train_data[\"NA_Sales\"].fillna(df[\"NA_Sales\"].median(skipna=True), inplace=True)"
      ],
      "execution_count": 46,
      "outputs": [
        {
          "output_type": "stream",
          "text": [
            "The median of \"NA_Sales\" is 0.13\n"
          ],
          "name": "stdout"
        }
      ]
    },
    {
      "cell_type": "code",
      "metadata": {
        "colab": {
          "base_uri": "https://localhost:8080/"
        },
        "id": "YoVY-oCMtNAr",
        "outputId": "e0c5af21-f6f2-4d2a-f980-952a5dcb85e6"
      },
      "source": [
        "print('The median of \"EU_Sales\" is %.2f' %(df[\"EU_Sales\"].median(skipna=True)))\r\n",
        "train_data[\"EU_Sales\"].fillna(df[\"EU_Sales\"].median(skipna=True), inplace=True)"
      ],
      "execution_count": 47,
      "outputs": [
        {
          "output_type": "stream",
          "text": [
            "The median of \"EU_Sales\" is 0.04\n"
          ],
          "name": "stdout"
        }
      ]
    },
    {
      "cell_type": "code",
      "metadata": {
        "colab": {
          "base_uri": "https://localhost:8080/"
        },
        "id": "SvQIdo63uSHF",
        "outputId": "e6e11a45-5d27-45e3-b39f-b3d757d58237"
      },
      "source": [
        "print('The median of \"JP_Sales\" is %.2f' %(df[\"JP_Sales\"].median(skipna=True)))\r\n",
        "train_data[\"JP_Sales\"].fillna(df[\"JP_Sales\"].median(skipna=True), inplace=True)"
      ],
      "execution_count": 48,
      "outputs": [
        {
          "output_type": "stream",
          "text": [
            "The median of \"JP_Sales\" is 0.00\n"
          ],
          "name": "stdout"
        }
      ]
    },
    {
      "cell_type": "code",
      "metadata": {
        "colab": {
          "base_uri": "https://localhost:8080/"
        },
        "id": "mheLNLfTuja7",
        "outputId": "67397e5c-f169-4854-9244-b31e10074cb7"
      },
      "source": [
        "print('The median of \"Other_Sales\" is %.2f' %(df[\"Other_Sales\"].median(skipna=True)))\r\n",
        "train_data[\"Other_Sales\"].fillna(df[\"Other_Sales\"].median(skipna=True), inplace=True)"
      ],
      "execution_count": 49,
      "outputs": [
        {
          "output_type": "stream",
          "text": [
            "The median of \"Other_Sales\" is 0.02\n"
          ],
          "name": "stdout"
        }
      ]
    },
    {
      "cell_type": "code",
      "metadata": {
        "colab": {
          "base_uri": "https://localhost:8080/"
        },
        "id": "ioE63LqKvZpw",
        "outputId": "fedce5ea-b9e6-493a-f108-fd2c32655893"
      },
      "source": [
        "print('The median of \"Global_Sales\" is %.2f' %(df[\"Global_Sales\"].median(skipna=True)))\r\n",
        "train_data[\"Global_Sales\"].fillna(df[\"Global_Sales\"].median(skipna=True), inplace=True)"
      ],
      "execution_count": 50,
      "outputs": [
        {
          "output_type": "stream",
          "text": [
            "The median of \"Global_Sales\" is 0.27\n"
          ],
          "name": "stdout"
        }
      ]
    },
    {
      "cell_type": "code",
      "metadata": {
        "id": "w0tQcCTrv0BN"
      },
      "source": [
        "train_data.drop('Year', axis=1, inplace=True)\r\n"
      ],
      "execution_count": 51,
      "outputs": []
    },
    {
      "cell_type": "code",
      "metadata": {
        "colab": {
          "base_uri": "https://localhost:8080/"
        },
        "id": "Ch-hHYinv6f4",
        "outputId": "5c589a3c-f56e-4921-d17f-7b73679c5ba5"
      },
      "source": [
        "train_data.isnull().sum()"
      ],
      "execution_count": 52,
      "outputs": [
        {
          "output_type": "execute_result",
          "data": {
            "text/plain": [
              "Name            0\n",
              "Platform        0\n",
              "Genre           0\n",
              "Publisher       0\n",
              "NA_Sales        0\n",
              "EU_Sales        0\n",
              "JP_Sales        0\n",
              "Other_Sales     0\n",
              "Global_Sales    0\n",
              "dtype: int64"
            ]
          },
          "metadata": {
            "tags": []
          },
          "execution_count": 52
        }
      ]
    },
    {
      "cell_type": "code",
      "metadata": {
        "colab": {
          "base_uri": "https://localhost:8080/"
        },
        "id": "peGAbqVGwEuv",
        "outputId": "fd08c35d-99c4-408f-b42a-4169043fff38"
      },
      "source": [
        "train_data.info()"
      ],
      "execution_count": 53,
      "outputs": [
        {
          "output_type": "stream",
          "text": [
            "<class 'pandas.core.frame.DataFrame'>\n",
            "Int64Index: 12819 entries, 1 to 12820\n",
            "Data columns (total 9 columns):\n",
            " #   Column        Non-Null Count  Dtype  \n",
            "---  ------        --------------  -----  \n",
            " 0   Name          12819 non-null  object \n",
            " 1   Platform      12819 non-null  object \n",
            " 2   Genre         12819 non-null  object \n",
            " 3   Publisher     12819 non-null  object \n",
            " 4   NA_Sales      12819 non-null  float64\n",
            " 5   EU_Sales      12819 non-null  float64\n",
            " 6   JP_Sales      12819 non-null  float64\n",
            " 7   Other_Sales   12819 non-null  float64\n",
            " 8   Global_Sales  12819 non-null  float64\n",
            "dtypes: float64(5), object(4)\n",
            "memory usage: 1001.5+ KB\n"
          ],
          "name": "stdout"
        }
      ]
    },
    {
      "cell_type": "code",
      "metadata": {
        "colab": {
          "base_uri": "https://localhost:8080/",
          "height": 297
        },
        "id": "CwUjNNyewggT",
        "outputId": "63fc52fe-4e21-4e1a-96a6-3bcb7818b691"
      },
      "source": [
        "df.describe()"
      ],
      "execution_count": 54,
      "outputs": [
        {
          "output_type": "execute_result",
          "data": {
            "text/html": [
              "<div>\n",
              "<style scoped>\n",
              "    .dataframe tbody tr th:only-of-type {\n",
              "        vertical-align: middle;\n",
              "    }\n",
              "\n",
              "    .dataframe tbody tr th {\n",
              "        vertical-align: top;\n",
              "    }\n",
              "\n",
              "    .dataframe thead th {\n",
              "        text-align: right;\n",
              "    }\n",
              "</style>\n",
              "<table border=\"1\" class=\"dataframe\">\n",
              "  <thead>\n",
              "    <tr style=\"text-align: right;\">\n",
              "      <th></th>\n",
              "      <th>Year</th>\n",
              "      <th>NA_Sales</th>\n",
              "      <th>EU_Sales</th>\n",
              "      <th>JP_Sales</th>\n",
              "      <th>Other_Sales</th>\n",
              "      <th>Global_Sales</th>\n",
              "    </tr>\n",
              "  </thead>\n",
              "  <tbody>\n",
              "    <tr>\n",
              "      <th>count</th>\n",
              "      <td>12616.000000</td>\n",
              "      <td>12818.000000</td>\n",
              "      <td>12818.000000</td>\n",
              "      <td>12818.000000</td>\n",
              "      <td>12818.000000</td>\n",
              "      <td>12818.000000</td>\n",
              "    </tr>\n",
              "    <tr>\n",
              "      <th>mean</th>\n",
              "      <td>2005.919388</td>\n",
              "      <td>0.339915</td>\n",
              "      <td>0.187966</td>\n",
              "      <td>0.097431</td>\n",
              "      <td>0.062000</td>\n",
              "      <td>0.687387</td>\n",
              "    </tr>\n",
              "    <tr>\n",
              "      <th>std</th>\n",
              "      <td>5.994138</td>\n",
              "      <td>0.915835</td>\n",
              "      <td>0.568481</td>\n",
              "      <td>0.349437</td>\n",
              "      <td>0.212602</td>\n",
              "      <td>1.741401</td>\n",
              "    </tr>\n",
              "    <tr>\n",
              "      <th>min</th>\n",
              "      <td>1980.000000</td>\n",
              "      <td>0.000000</td>\n",
              "      <td>0.000000</td>\n",
              "      <td>0.000000</td>\n",
              "      <td>0.000000</td>\n",
              "      <td>0.060000</td>\n",
              "    </tr>\n",
              "    <tr>\n",
              "      <th>25%</th>\n",
              "      <td>2002.000000</td>\n",
              "      <td>0.050000</td>\n",
              "      <td>0.000000</td>\n",
              "      <td>0.000000</td>\n",
              "      <td>0.010000</td>\n",
              "      <td>0.130000</td>\n",
              "    </tr>\n",
              "    <tr>\n",
              "      <th>50%</th>\n",
              "      <td>2007.000000</td>\n",
              "      <td>0.130000</td>\n",
              "      <td>0.040000</td>\n",
              "      <td>0.000000</td>\n",
              "      <td>0.020000</td>\n",
              "      <td>0.270000</td>\n",
              "    </tr>\n",
              "    <tr>\n",
              "      <th>75%</th>\n",
              "      <td>2010.000000</td>\n",
              "      <td>0.320000</td>\n",
              "      <td>0.160000</td>\n",
              "      <td>0.060000</td>\n",
              "      <td>0.050000</td>\n",
              "      <td>0.630000</td>\n",
              "    </tr>\n",
              "    <tr>\n",
              "      <th>max</th>\n",
              "      <td>2020.000000</td>\n",
              "      <td>41.490000</td>\n",
              "      <td>29.020000</td>\n",
              "      <td>10.220000</td>\n",
              "      <td>10.570000</td>\n",
              "      <td>82.740000</td>\n",
              "    </tr>\n",
              "  </tbody>\n",
              "</table>\n",
              "</div>"
            ],
            "text/plain": [
              "               Year      NA_Sales  ...   Other_Sales  Global_Sales\n",
              "count  12616.000000  12818.000000  ...  12818.000000  12818.000000\n",
              "mean    2005.919388      0.339915  ...      0.062000      0.687387\n",
              "std        5.994138      0.915835  ...      0.212602      1.741401\n",
              "min     1980.000000      0.000000  ...      0.000000      0.060000\n",
              "25%     2002.000000      0.050000  ...      0.010000      0.130000\n",
              "50%     2007.000000      0.130000  ...      0.020000      0.270000\n",
              "75%     2010.000000      0.320000  ...      0.050000      0.630000\n",
              "max     2020.000000     41.490000  ...     10.570000     82.740000\n",
              "\n",
              "[8 rows x 6 columns]"
            ]
          },
          "metadata": {
            "tags": []
          },
          "execution_count": 54
        }
      ]
    },
    {
      "cell_type": "code",
      "metadata": {
        "colab": {
          "base_uri": "https://localhost:8080/",
          "height": 297
        },
        "id": "dcvkIigIwuPP",
        "outputId": "91b22089-9a81-43b6-d4e9-15ae1583b3a9"
      },
      "source": [
        "train_data.describe()"
      ],
      "execution_count": 55,
      "outputs": [
        {
          "output_type": "execute_result",
          "data": {
            "text/html": [
              "<div>\n",
              "<style scoped>\n",
              "    .dataframe tbody tr th:only-of-type {\n",
              "        vertical-align: middle;\n",
              "    }\n",
              "\n",
              "    .dataframe tbody tr th {\n",
              "        vertical-align: top;\n",
              "    }\n",
              "\n",
              "    .dataframe thead th {\n",
              "        text-align: right;\n",
              "    }\n",
              "</style>\n",
              "<table border=\"1\" class=\"dataframe\">\n",
              "  <thead>\n",
              "    <tr style=\"text-align: right;\">\n",
              "      <th></th>\n",
              "      <th>NA_Sales</th>\n",
              "      <th>EU_Sales</th>\n",
              "      <th>JP_Sales</th>\n",
              "      <th>Other_Sales</th>\n",
              "      <th>Global_Sales</th>\n",
              "    </tr>\n",
              "  </thead>\n",
              "  <tbody>\n",
              "    <tr>\n",
              "      <th>count</th>\n",
              "      <td>12819.000000</td>\n",
              "      <td>12819.000000</td>\n",
              "      <td>12819.000000</td>\n",
              "      <td>12819.000000</td>\n",
              "      <td>12819.000000</td>\n",
              "    </tr>\n",
              "    <tr>\n",
              "      <th>mean</th>\n",
              "      <td>0.339899</td>\n",
              "      <td>0.187955</td>\n",
              "      <td>0.097423</td>\n",
              "      <td>0.061997</td>\n",
              "      <td>0.687355</td>\n",
              "    </tr>\n",
              "    <tr>\n",
              "      <th>std</th>\n",
              "      <td>0.915801</td>\n",
              "      <td>0.568460</td>\n",
              "      <td>0.349424</td>\n",
              "      <td>0.212594</td>\n",
              "      <td>1.741337</td>\n",
              "    </tr>\n",
              "    <tr>\n",
              "      <th>min</th>\n",
              "      <td>0.000000</td>\n",
              "      <td>0.000000</td>\n",
              "      <td>0.000000</td>\n",
              "      <td>0.000000</td>\n",
              "      <td>0.060000</td>\n",
              "    </tr>\n",
              "    <tr>\n",
              "      <th>25%</th>\n",
              "      <td>0.050000</td>\n",
              "      <td>0.000000</td>\n",
              "      <td>0.000000</td>\n",
              "      <td>0.010000</td>\n",
              "      <td>0.130000</td>\n",
              "    </tr>\n",
              "    <tr>\n",
              "      <th>50%</th>\n",
              "      <td>0.130000</td>\n",
              "      <td>0.040000</td>\n",
              "      <td>0.000000</td>\n",
              "      <td>0.020000</td>\n",
              "      <td>0.270000</td>\n",
              "    </tr>\n",
              "    <tr>\n",
              "      <th>75%</th>\n",
              "      <td>0.320000</td>\n",
              "      <td>0.160000</td>\n",
              "      <td>0.060000</td>\n",
              "      <td>0.050000</td>\n",
              "      <td>0.630000</td>\n",
              "    </tr>\n",
              "    <tr>\n",
              "      <th>max</th>\n",
              "      <td>41.490000</td>\n",
              "      <td>29.020000</td>\n",
              "      <td>10.220000</td>\n",
              "      <td>10.570000</td>\n",
              "      <td>82.740000</td>\n",
              "    </tr>\n",
              "  </tbody>\n",
              "</table>\n",
              "</div>"
            ],
            "text/plain": [
              "           NA_Sales      EU_Sales      JP_Sales   Other_Sales  Global_Sales\n",
              "count  12819.000000  12819.000000  12819.000000  12819.000000  12819.000000\n",
              "mean       0.339899      0.187955      0.097423      0.061997      0.687355\n",
              "std        0.915801      0.568460      0.349424      0.212594      1.741337\n",
              "min        0.000000      0.000000      0.000000      0.000000      0.060000\n",
              "25%        0.050000      0.000000      0.000000      0.010000      0.130000\n",
              "50%        0.130000      0.040000      0.000000      0.020000      0.270000\n",
              "75%        0.320000      0.160000      0.060000      0.050000      0.630000\n",
              "max       41.490000     29.020000     10.220000     10.570000     82.740000"
            ]
          },
          "metadata": {
            "tags": []
          },
          "execution_count": 55
        }
      ]
    },
    {
      "cell_type": "code",
      "metadata": {
        "colab": {
          "base_uri": "https://localhost:8080/",
          "height": 502
        },
        "id": "JvgfIWKox5kH",
        "outputId": "d79e9755-3866-4b20-fe3e-9356f17cd5b4"
      },
      "source": [
        "plt.figure(figsize=(15,8))\r\n",
        "ax = df[\"Global_Sales\"].hist(bins=15, density=True, stacked=True, color='teal', alpha=0.6)\r\n",
        "df[\"Global_Sales\"].plot(kind='density', color='teal')\r\n",
        "ax = train_data[\"Global_Sales\"].hist(bins=15, density=True, stacked=True, color='orange', alpha=0.5)\r\n",
        "train_data[\"Global_Sales\"].plot(kind='density', color='orange')\r\n",
        "ax.legend(['Raw Global_Sales', 'Adjusted Global_Sales'])\r\n",
        "ax.set(xlabel='Global_Sales')\r\n",
        "plt.xlim(-10,85)\r\n",
        "plt.show()"
      ],
      "execution_count": 63,
      "outputs": [
        {
          "output_type": "display_data",
          "data": {
            "image/png": "[encoded data removed]",
            "text/plain": [
              "<Figure size 1080x576 with 1 Axes>"
            ]
          },
          "metadata": {
            "tags": []
          }
        }
      ]
    },
    {
      "cell_type": "code",
      "metadata": {
        "colab": {
          "base_uri": "https://localhost:8080/",
          "height": 248
        },
        "id": "Vhf4RDSczPjb",
        "outputId": "fdbd2b5b-ab9b-4dd3-86e6-06aab6319d91"
      },
      "source": [
        "ax= sns.boxplot(y=\"Global_Sales\", data=train_data)"
      ],
      "execution_count": 64,
      "outputs": [
        {
          "output_type": "display_data",
          "data": {
            "image/png": "[encoded data removed]",
            "text/plain": [
              "<Figure size 432x288 with 1 Axes>"
            ]
          },
          "metadata": {
            "tags": []
          }
        }
      ]
    }
  ]
}